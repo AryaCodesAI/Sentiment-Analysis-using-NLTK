{
 "cells": [
  {
   "cell_type": "markdown",
   "id": "5d6e720f-5e70-473e-bc48-190d57fa7036",
   "metadata": {},
   "source": [
    "# Doubts"
   ]
  },
  {
   "cell_type": "markdown",
   "id": "7c7d0cca-0545-41e4-8c5d-606419806e0d",
   "metadata": {},
   "source": [
    "<div class=\"alert alert-info\">\n",
    "to test on custom tweeet create a custom tweet with a sentiment\n",
    "    </div>"
   ]
  },
  {
   "cell_type": "markdown",
   "id": "7e816799-a821-4b36-a206-e4c36f9f117c",
   "metadata": {},
   "source": [
    "<div class=\"alert alert-success\">\n",
    "to test on custom tweeet create a custom tweet with a sentiment\n",
    "    </div>"
   ]
  },
  {
   "cell_type": "markdown",
   "id": "e9df89ba-c1b5-4402-b1bb-8fa8ca218b8b",
   "metadata": {},
   "source": [
    "<div class=\"alert alert-warning\">\n",
    "to test on custom tweeet create a custom tweet with a sentiment\n",
    "    </div>"
   ]
  },
  {
   "cell_type": "markdown",
   "id": "b8deb6f4-1917-42d1-b476-9a814387239b",
   "metadata": {},
   "source": [
    "<div class=\"alert alert-danger\">\n",
    "to test on custom tweeet create a custom tweet with a sentiment\n",
    "    </div>"
   ]
  },
  {
   "cell_type": "code",
   "execution_count": null,
   "id": "39f903db-0236-47f4-8eb8-cd5fb491f6b5",
   "metadata": {},
   "outputs": [],
   "source": []
  },
  {
   "cell_type": "markdown",
   "id": "281b9a0d-291e-41d7-bd95-e0562a3a57ee",
   "metadata": {},
   "source": [
    "## Get the habit of writing a structured notebook from the beginning"
   ]
  },
  {
   "cell_type": "code",
   "execution_count": null,
   "id": "0a00dc21-c4c5-4e24-9e32-69892bc747ce",
   "metadata": {},
   "outputs": [],
   "source": []
  },
  {
   "cell_type": "markdown",
   "id": "7bc8ec90-5ce8-4a29-92af-cec05df04cd1",
   "metadata": {},
   "source": [
    "## Take notes within the notebook about curiosity doubts"
   ]
  },
  {
   "cell_type": "code",
   "execution_count": null,
   "id": "ff2937b9-3415-4cab-bbea-7251d531821b",
   "metadata": {},
   "outputs": [],
   "source": []
  },
  {
   "cell_type": "markdown",
   "id": "9e45783a-d8d8-4f66-8950-b951696f9bc5",
   "metadata": {},
   "source": [
    "## Share it for social accountability and providing value"
   ]
  },
  {
   "cell_type": "code",
   "execution_count": null,
   "id": "c656e804-aa41-4839-8c2c-fbf40ff81788",
   "metadata": {},
   "outputs": [],
   "source": []
  },
  {
   "cell_type": "code",
   "execution_count": null,
   "id": "918d13fb-38db-4a58-b2b4-1d413b03f086",
   "metadata": {},
   "outputs": [],
   "source": []
  }
 ],
 "metadata": {
  "kernelspec": {
   "display_name": "Python 3 (ipykernel)",
   "language": "python",
   "name": "python3"
  },
  "language_info": {
   "codemirror_mode": {
    "name": "ipython",
    "version": 3
   },
   "file_extension": ".py",
   "mimetype": "text/x-python",
   "name": "python",
   "nbconvert_exporter": "python",
   "pygments_lexer": "ipython3",
   "version": "3.10.6"
  }
 },
 "nbformat": 4,
 "nbformat_minor": 5
}
