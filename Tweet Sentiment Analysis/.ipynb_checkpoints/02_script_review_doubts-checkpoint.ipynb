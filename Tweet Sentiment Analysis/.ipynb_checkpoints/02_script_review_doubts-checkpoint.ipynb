{
 "cells": [
  {
   "cell_type": "markdown",
   "id": "c3046cae-9be6-4b36-bd27-7253068289aa",
   "metadata": {},
   "source": [
    "# Tweet Sentiment Analysis using Natural Language Toolkit (NLTK)"
   ]
  },
  {
   "cell_type": "markdown",
   "id": "c3ba58ef-239b-4067-acb3-a261cbad243f",
   "metadata": {},
   "source": [
    "## Step 1: Import libraries and download the data "
   ]
  },
  {
   "cell_type": "code",
   "execution_count": 1,
   "id": "6bd73abe-7ac2-4859-a103-9bb5d836687d",
   "metadata": {},
   "outputs": [],
   "source": [
    "import nltk"
   ]
  },
  {
   "cell_type": "code",
   "execution_count": 2,
   "id": "94e0265f-2c02-482b-8288-9729febcc230",
   "metadata": {},
   "outputs": [
    {
     "name": "stderr",
     "output_type": "stream",
     "text": [
      "[nltk_data] Downloading package punkt to /Users/sota/nltk_data...\n",
      "[nltk_data]   Unzipping tokenizers/punkt.zip.\n"
     ]
    },
    {
     "data": {
      "text/plain": [
       "True"
      ]
     },
     "execution_count": 2,
     "metadata": {},
     "output_type": "execute_result"
    }
   ],
   "source": [
    "nltk.download('punkt')"
   ]
  },
  {
   "cell_type": "code",
   "execution_count": 3,
   "id": "e5d46a46-420e-4558-be81-0e72efeb1653",
   "metadata": {},
   "outputs": [
    {
     "name": "stderr",
     "output_type": "stream",
     "text": [
      "[nltk_data] Downloading package twitter_samples to\n",
      "[nltk_data]     /Users/sota/nltk_data...\n",
      "[nltk_data]   Unzipping corpora/twitter_samples.zip.\n"
     ]
    },
    {
     "data": {
      "text/plain": [
       "True"
      ]
     },
     "execution_count": 3,
     "metadata": {},
     "output_type": "execute_result"
    }
   ],
   "source": [
    "nltk.download('twitter_samples')"
   ]
  },
  {
   "cell_type": "markdown",
   "id": "0d182f9a-fa5d-49de-9541-7ee8dda83454",
   "metadata": {},
   "source": [
    "## Step 2: Tokenize  "
   ]
  },
  {
   "cell_type": "code",
   "execution_count": 4,
   "id": "f013a0bd-7dab-400b-8c71-7f1a76c4ff76",
   "metadata": {},
   "outputs": [],
   "source": [
    "from nltk.corpus import twitter_samples"
   ]
  },
  {
   "cell_type": "code",
   "execution_count": 5,
   "id": "5c32c11a-8060-40bc-b4b6-33b242960971",
   "metadata": {},
   "outputs": [
    {
     "data": {
      "text/plain": [
       "['#FollowFriday',\n",
       " '@France_Inte',\n",
       " '@PKuchly57',\n",
       " '@Milipol_Paris',\n",
       " 'for',\n",
       " 'being',\n",
       " 'top',\n",
       " 'engaged',\n",
       " 'members',\n",
       " 'in',\n",
       " 'my',\n",
       " 'community',\n",
       " 'this',\n",
       " 'week',\n",
       " ':)']"
      ]
     },
     "execution_count": 5,
     "metadata": {},
     "output_type": "execute_result"
    }
   ],
   "source": [
    "positive_tweets = twitter_samples.strings('positive_tweets.json')\n",
    "negative_tweets = twitter_samples.strings('negative_tweets.json')\n",
    "text = twitter_samples.strings('tweets.20150430-223406.json')\n",
    "tweet_tokens = twitter_samples.tokenized('positive_tweets.json')\n",
    "tweet_tokens[0]"
   ]
  },
  {
   "cell_type": "markdown",
   "id": "023e948d-9bbf-4955-8d56-cbd986c6b5f1",
   "metadata": {
    "tags": []
   },
   "source": [
    "## Step 3: Normalize the data"
   ]
  },
  {
   "cell_type": "code",
   "execution_count": 6,
   "id": "9263a171-d50b-4bad-8d3b-e63f2438096b",
   "metadata": {},
   "outputs": [
    {
     "name": "stderr",
     "output_type": "stream",
     "text": [
      "[nltk_data] Downloading package wordnet to /Users/sota/nltk_data...\n"
     ]
    },
    {
     "data": {
      "text/plain": [
       "True"
      ]
     },
     "execution_count": 6,
     "metadata": {},
     "output_type": "execute_result"
    }
   ],
   "source": [
    "nltk.download('wordnet')"
   ]
  },
  {
   "cell_type": "code",
   "execution_count": 7,
   "id": "170ae239-44e7-40e5-a88e-179ee1293928",
   "metadata": {},
   "outputs": [
    {
     "name": "stderr",
     "output_type": "stream",
     "text": [
      "[nltk_data] Downloading package averaged_perceptron_tagger to\n",
      "[nltk_data]     /Users/sota/nltk_data...\n",
      "[nltk_data]   Unzipping taggers/averaged_perceptron_tagger.zip.\n"
     ]
    },
    {
     "data": {
      "text/plain": [
       "True"
      ]
     },
     "execution_count": 7,
     "metadata": {},
     "output_type": "execute_result"
    }
   ],
   "source": [
    "nltk.download('averaged_perceptron_tagger')"
   ]
  },
  {
   "cell_type": "code",
   "execution_count": 11,
   "id": "fea31b2f-86dd-456a-9e9a-2413eafb9664",
   "metadata": {},
   "outputs": [],
   "source": [
    "from nltk.tag import pos_tag"
   ]
  },
  {
   "cell_type": "code",
   "execution_count": 12,
   "id": "c55c849f-7c09-4631-afe1-6221780cc72a",
   "metadata": {},
   "outputs": [
    {
     "data": {
      "text/plain": [
       "[('#FollowFriday', 'JJ'),\n",
       " ('@France_Inte', 'NNP'),\n",
       " ('@PKuchly57', 'NNP'),\n",
       " ('@Milipol_Paris', 'NNP'),\n",
       " ('for', 'IN'),\n",
       " ('being', 'VBG'),\n",
       " ('top', 'JJ'),\n",
       " ('engaged', 'VBN'),\n",
       " ('members', 'NNS'),\n",
       " ('in', 'IN'),\n",
       " ('my', 'PRP$'),\n",
       " ('community', 'NN'),\n",
       " ('this', 'DT'),\n",
       " ('week', 'NN'),\n",
       " (':)', 'NN')]"
      ]
     },
     "execution_count": 12,
     "metadata": {},
     "output_type": "execute_result"
    }
   ],
   "source": [
    "pos_tag(tweet_tokens[0])"
   ]
  },
  {
   "cell_type": "code",
   "execution_count": 13,
   "id": "8a1dc690-950d-4d32-9b2f-68579d36007a",
   "metadata": {},
   "outputs": [],
   "source": [
    "#we are using lemmatization technique of normalization of words \n",
    "from nltk.stem.wordnet import WordNetLemmatizer"
   ]
  },
  {
   "cell_type": "code",
   "execution_count": 14,
   "id": "767afdbc-5d08-4fed-8199-d929ee81e914",
   "metadata": {},
   "outputs": [
    {
     "name": "stderr",
     "output_type": "stream",
     "text": [
      "[nltk_data] Downloading package omw-1.4 to /Users/sota/nltk_data...\n"
     ]
    },
    {
     "data": {
      "text/plain": [
       "True"
      ]
     },
     "execution_count": 14,
     "metadata": {},
     "output_type": "execute_result"
    }
   ],
   "source": [
    "nltk.download('omw-1.4')"
   ]
  },
  {
   "cell_type": "code",
   "execution_count": 20,
   "id": "cb3440d9-1a77-4dc2-802c-3922b182d969",
   "metadata": {},
   "outputs": [],
   "source": [
    "x,y = pos_tag(tweet_tokens[0])[0]"
   ]
  },
  {
   "cell_type": "code",
   "execution_count": 21,
   "id": "dc41ca3f-aa1e-4ddb-a1c0-989cd513c19b",
   "metadata": {},
   "outputs": [
    {
     "data": {
      "text/plain": [
       "'#FollowFriday'"
      ]
     },
     "execution_count": 21,
     "metadata": {},
     "output_type": "execute_result"
    }
   ],
   "source": [
    "x"
   ]
  },
  {
   "cell_type": "code",
   "execution_count": 22,
   "id": "84fa9e4a-60fd-4af9-9928-f78fa58a1788",
   "metadata": {},
   "outputs": [
    {
     "data": {
      "text/plain": [
       "'JJ'"
      ]
     },
     "execution_count": 22,
     "metadata": {},
     "output_type": "execute_result"
    }
   ],
   "source": [
    "y"
   ]
  },
  {
   "cell_type": "code",
   "execution_count": 23,
   "id": "6fcace90-f38b-4af6-b77a-25f0bac9ca3e",
   "metadata": {},
   "outputs": [],
   "source": [
    "import seaborn as sns"
   ]
  },
  {
   "cell_type": "code",
   "execution_count": 24,
   "id": "5a219a7a-80da-45a7-8e9d-edc38d4bdf03",
   "metadata": {},
   "outputs": [],
   "source": [
    "df = sns.load_dataset('tips')"
   ]
  },
  {
   "cell_type": "code",
   "execution_count": 27,
   "id": "b9b5192f-b5b9-40e9-8259-1b2229ebf230",
   "metadata": {},
   "outputs": [],
   "source": [
    "male, female = df.groupby('sex')"
   ]
  },
  {
   "cell_type": "code",
   "execution_count": 30,
   "id": "60678eba-2f31-40f8-a64c-7ee7eedb2717",
   "metadata": {},
   "outputs": [
    {
     "ename": "ValueError",
     "evalue": "not enough values to unpack (expected 3, got 2)",
     "output_type": "error",
     "traceback": [
      "\u001b[0;31m---------------------------------------------------------------------------\u001b[0m",
      "\u001b[0;31mValueError\u001b[0m                                Traceback (most recent call last)",
      "Cell \u001b[0;32mIn [30], line 1\u001b[0m\n\u001b[0;32m----> 1\u001b[0m x, male, female \u001b[38;5;241m=\u001b[39m df\u001b[38;5;241m.\u001b[39mgroupby(\u001b[38;5;124m'\u001b[39m\u001b[38;5;124msex\u001b[39m\u001b[38;5;124m'\u001b[39m)\n",
      "\u001b[0;31mValueError\u001b[0m: not enough values to unpack (expected 3, got 2)"
     ]
    }
   ],
   "source": [
    "x, male, female = df.groupby('sex')"
   ]
  },
  {
   "cell_type": "code",
   "execution_count": null,
   "id": "83f861ec-13de-43d2-987f-455a84fbca7a",
   "metadata": {},
   "outputs": [],
   "source": []
  },
  {
   "cell_type": "code",
   "execution_count": 28,
   "id": "96f2c48d-b980-4718-9bf3-ac5f0709af05",
   "metadata": {},
   "outputs": [
    {
     "data": {
      "text/plain": [
       "('Male',\n",
       "      total_bill   tip   sex smoker  day    time  size\n",
       " 1         10.34  1.66  Male     No  Sun  Dinner     3\n",
       " 2         21.01  3.50  Male     No  Sun  Dinner     3\n",
       " 3         23.68  3.31  Male     No  Sun  Dinner     2\n",
       " 5         25.29  4.71  Male     No  Sun  Dinner     4\n",
       " 6          8.77  2.00  Male     No  Sun  Dinner     2\n",
       " ..          ...   ...   ...    ...  ...     ...   ...\n",
       " 236       12.60  1.00  Male    Yes  Sat  Dinner     2\n",
       " 237       32.83  1.17  Male    Yes  Sat  Dinner     2\n",
       " 239       29.03  5.92  Male     No  Sat  Dinner     3\n",
       " 241       22.67  2.00  Male    Yes  Sat  Dinner     2\n",
       " 242       17.82  1.75  Male     No  Sat  Dinner     2\n",
       " \n",
       " [157 rows x 7 columns])"
      ]
     },
     "execution_count": 28,
     "metadata": {},
     "output_type": "execute_result"
    }
   ],
   "source": [
    "male"
   ]
  },
  {
   "cell_type": "code",
   "execution_count": 29,
   "id": "c2ffd4c7-2f1f-4c96-b0af-2c1accbd7c1c",
   "metadata": {},
   "outputs": [
    {
     "data": {
      "text/plain": [
       "('Female',\n",
       "      total_bill   tip     sex smoker   day    time  size\n",
       " 0         16.99  1.01  Female     No   Sun  Dinner     2\n",
       " 4         24.59  3.61  Female     No   Sun  Dinner     4\n",
       " 11        35.26  5.00  Female     No   Sun  Dinner     4\n",
       " 14        14.83  3.02  Female     No   Sun  Dinner     2\n",
       " 16        10.33  1.67  Female     No   Sun  Dinner     3\n",
       " ..          ...   ...     ...    ...   ...     ...   ...\n",
       " 226       10.09  2.00  Female    Yes   Fri   Lunch     2\n",
       " 229       22.12  2.88  Female    Yes   Sat  Dinner     2\n",
       " 238       35.83  4.67  Female     No   Sat  Dinner     3\n",
       " 240       27.18  2.00  Female    Yes   Sat  Dinner     2\n",
       " 243       18.78  3.00  Female     No  Thur  Dinner     2\n",
       " \n",
       " [87 rows x 7 columns])"
      ]
     },
     "execution_count": 29,
     "metadata": {},
     "output_type": "execute_result"
    }
   ],
   "source": [
    "female"
   ]
  },
  {
   "cell_type": "code",
   "execution_count": null,
   "id": "f48ab4df-b0a3-4125-a7ac-fbb5897b7bbe",
   "metadata": {},
   "outputs": [],
   "source": []
  },
  {
   "cell_type": "code",
   "execution_count": null,
   "id": "b4d60ee4-7bed-438d-8e2b-9bbd863da28b",
   "metadata": {},
   "outputs": [],
   "source": [
    "for word, tab in pos_tag(tokens)"
   ]
  },
  {
   "cell_type": "code",
   "execution_count": 16,
   "id": "575f91c7-f2ad-47bd-a831-87303d665e3a",
   "metadata": {},
   "outputs": [
    {
     "data": {
      "text/plain": [
       "['#FollowFriday',\n",
       " '@France_Inte',\n",
       " '@PKuchly57',\n",
       " '@Milipol_Paris',\n",
       " 'for',\n",
       " 'being',\n",
       " 'top',\n",
       " 'engaged',\n",
       " 'members',\n",
       " 'in',\n",
       " 'my',\n",
       " 'community',\n",
       " 'this',\n",
       " 'week',\n",
       " ':)']"
      ]
     },
     "execution_count": 16,
     "metadata": {},
     "output_type": "execute_result"
    }
   ],
   "source": [
    "tweet_tokens[0]"
   ]
  },
  {
   "cell_type": "code",
   "execution_count": 31,
   "id": "c6a15e97-89ae-4e51-b23f-ccdaa19cbf46",
   "metadata": {},
   "outputs": [],
   "source": [
    "def lemmatize_sentence(tokens):\n",
    "    lemmatizer = WordNetLemmatizer()\n",
    "    lemmatized_sentence = []\n",
    "    for word, tag in pos_tag(tokens):\n",
    "        if tag.startswith('NN'):\n",
    "            pos = 'n'\n",
    "        elif tag.startswith('VB'):\n",
    "            pos = 'v'\n",
    "        else:\n",
    "            pos = 'a'\n",
    "        lemmatized_sentence.append(lemmatizer.lemmatize(word, pos))\n",
    "    return lemmatized_sentence"
   ]
  },
  {
   "cell_type": "code",
   "execution_count": 32,
   "id": "25bf2e47-d68c-4645-89a0-688b4de04ab1",
   "metadata": {},
   "outputs": [
    {
     "name": "stdout",
     "output_type": "stream",
     "text": [
      "['#FollowFriday', '@France_Inte', '@PKuchly57', '@Milipol_Paris', 'for', 'be', 'top', 'engage', 'member', 'in', 'my', 'community', 'this', 'week', ':)']\n"
     ]
    }
   ],
   "source": [
    "print(lemmatize_sentence(tweet_tokens[0]))"
   ]
  },
  {
   "cell_type": "code",
   "execution_count": 33,
   "id": "25a0f966-d436-4b92-bf66-892bb0317651",
   "metadata": {},
   "outputs": [
    {
     "data": {
      "text/plain": [
       "['#FollowFriday',\n",
       " '@France_Inte',\n",
       " '@PKuchly57',\n",
       " '@Milipol_Paris',\n",
       " 'for',\n",
       " 'being',\n",
       " 'top',\n",
       " 'engaged',\n",
       " 'members',\n",
       " 'in',\n",
       " 'my',\n",
       " 'community',\n",
       " 'this',\n",
       " 'week',\n",
       " ':)']"
      ]
     },
     "execution_count": 33,
     "metadata": {},
     "output_type": "execute_result"
    }
   ],
   "source": [
    "tweet_tokens[0]"
   ]
  },
  {
   "cell_type": "markdown",
   "id": "fea529b7-ff7d-4202-bc7f-888767d74ff3",
   "metadata": {},
   "source": [
    "https://stackoverflow.com/a/67353408"
   ]
  },
  {
   "cell_type": "code",
   "execution_count": 13,
   "id": "47e30f14-e586-4e4c-96e3-25edd0f04115",
   "metadata": {},
   "outputs": [
    {
     "data": {
      "text/plain": [
       "[('#FollowFriday', 'JJ'),\n",
       " ('@France_Inte', 'NNP'),\n",
       " ('@PKuchly57', 'NNP'),\n",
       " ('@Milipol_Paris', 'NNP'),\n",
       " ('for', 'IN'),\n",
       " ('being', 'VBG'),\n",
       " ('top', 'JJ'),\n",
       " ('engaged', 'VBN'),\n",
       " ('members', 'NNS'),\n",
       " ('in', 'IN'),\n",
       " ('my', 'PRP$'),\n",
       " ('community', 'NN'),\n",
       " ('this', 'DT'),\n",
       " ('week', 'NN'),\n",
       " (':)', 'NN')]"
      ]
     },
     "execution_count": 13,
     "metadata": {},
     "output_type": "execute_result"
    }
   ],
   "source": [
    "pos_tag(tweet_tokens[0])"
   ]
  },
  {
   "cell_type": "markdown",
   "id": "b95c2809-9278-43f5-b719-be1ffa34ff1b",
   "metadata": {
    "tags": []
   },
   "source": [
    "## Step 4: Removing Noise (StopWords)"
   ]
  },
  {
   "cell_type": "code",
   "execution_count": 14,
   "id": "cebac046-7a56-480d-82e0-4f011564d2ac",
   "metadata": {},
   "outputs": [],
   "source": [
    "import re, string\n",
    "\n",
    "def remove_noise(tweet_tokens, stop_words = ()):\n",
    "\n",
    "    cleaned_tokens = []\n",
    "\n",
    "    for token, tag in pos_tag(tweet_tokens):\n",
    "        #remove hyperlinks\n",
    "        token = re.sub('http[s]?://(?:[a-zA-Z]|[0-9]|[$-_@.&+#]|[!*\\(\\),]|'\\\n",
    "                       '(?:%[0-9a-fA-F][0-9a-fA-F]))+','', token)\n",
    "        #remove twitter handles\n",
    "        token = re.sub(\"(@[A-Za-z0-9_]+)\",\"\", token)\n",
    "\n",
    "        if tag.startswith(\"NN\"):\n",
    "            pos = 'n'\n",
    "        elif tag.startswith('VB'):\n",
    "            pos = 'v'\n",
    "        else:\n",
    "            pos = 'a'\n",
    "\n",
    "        lemmatizer = WordNetLemmatizer()\n",
    "        token = lemmatizer.lemmatize(token, pos)\n",
    "\n",
    "        if len(token) > 0 and token not in string.punctuation and token.lower() not in stop_words:\n",
    "            cleaned_tokens.append(token.lower())\n",
    "    return cleaned_tokens"
   ]
  },
  {
   "cell_type": "code",
   "execution_count": 15,
   "id": "dda807d6-4ae4-4bc6-b0a7-aace17569342",
   "metadata": {},
   "outputs": [
    {
     "name": "stderr",
     "output_type": "stream",
     "text": [
      "[nltk_data] Downloading package stopwords to\n",
      "[nltk_data]     C:\\Users\\vipul\\AppData\\Roaming\\nltk_data...\n",
      "[nltk_data]   Package stopwords is already up-to-date!\n"
     ]
    },
    {
     "data": {
      "text/plain": [
       "True"
      ]
     },
     "execution_count": 15,
     "metadata": {},
     "output_type": "execute_result"
    }
   ],
   "source": [
    "nltk.download('stopwords')"
   ]
  },
  {
   "cell_type": "code",
   "execution_count": 16,
   "id": "c9f9b018-ca62-4b80-a2aa-77f6581c16e8",
   "metadata": {},
   "outputs": [
    {
     "data": {
      "text/plain": [
       "['#followfriday', 'top', 'engage', 'member', 'community', 'week', ':)']"
      ]
     },
     "execution_count": 16,
     "metadata": {},
     "output_type": "execute_result"
    }
   ],
   "source": [
    "#remove stopwords\n",
    "from nltk.corpus import stopwords\n",
    "stop_words = stopwords.words('english')\n",
    "\n",
    "remove_noise(tweet_tokens[0], stop_words)"
   ]
  },
  {
   "cell_type": "code",
   "execution_count": 17,
   "id": "40f8ef09-d3cb-4f24-924a-4e2bc8691a37",
   "metadata": {},
   "outputs": [],
   "source": [
    "positive_tweet_tokens = twitter_samples.tokenized('positive_tweets.json')\n",
    "negative_tweet_tokens = twitter_samples.tokenized('negative_tweets.json')\n",
    "\n",
    "positive_cleaned_tokens_list = []\n",
    "negative_cleaned_tokens_list = []\n",
    "\n",
    "for tokens in positive_tweet_tokens:\n",
    "    positive_cleaned_tokens_list.append(remove_noise(tokens, stop_words))\n",
    "\n",
    "for tokens in negative_tweet_tokens:\n",
    "    negative_cleaned_tokens_list.append(remove_noise(tokens, stop_words))"
   ]
  },
  {
   "cell_type": "code",
   "execution_count": 18,
   "id": "fb27aa97-113b-4d56-81ec-3d53f64486e3",
   "metadata": {},
   "outputs": [
    {
     "name": "stdout",
     "output_type": "stream",
     "text": [
      "['#FollowFriday', '@France_Inte', '@PKuchly57', '@Milipol_Paris', 'for', 'being', 'top', 'engaged', 'members', 'in', 'my', 'community', 'this', 'week', ':)']\n"
     ]
    }
   ],
   "source": [
    "print(positive_tweet_tokens[0])"
   ]
  },
  {
   "cell_type": "code",
   "execution_count": 19,
   "id": "189e5a42-9d42-4e69-b46c-d7f8b3c3713a",
   "metadata": {},
   "outputs": [
    {
     "name": "stdout",
     "output_type": "stream",
     "text": [
      "['#followfriday', 'top', 'engage', 'member', 'community', 'week', ':)']\n"
     ]
    }
   ],
   "source": [
    "print(positive_cleaned_tokens_list[0])"
   ]
  },
  {
   "cell_type": "markdown",
   "id": "a173538a-1a09-42ef-8746-26b7cbaec005",
   "metadata": {},
   "source": [
    "## Determining Word Density"
   ]
  },
  {
   "cell_type": "code",
   "execution_count": 20,
   "id": "f67a22da-93c8-4b43-8530-8d4277eba89d",
   "metadata": {},
   "outputs": [],
   "source": [
    "def get_all_words(cleaned_tokens_list):\n",
    "    for tokens in cleaned_tokens_list:\n",
    "        for token in tokens:\n",
    "            yield token\n",
    "\n",
    "all_pos_words = get_all_words(positive_cleaned_tokens_list)"
   ]
  },
  {
   "cell_type": "code",
   "execution_count": 21,
   "id": "8d48a525-f8e8-46c2-a9e8-d3fe7a7405a9",
   "metadata": {},
   "outputs": [],
   "source": [
    "from nltk import FreqDist"
   ]
  },
  {
   "cell_type": "code",
   "execution_count": 22,
   "id": "b5de5a9e-76c3-4641-b0d1-2581a6935450",
   "metadata": {},
   "outputs": [
    {
     "name": "stdout",
     "output_type": "stream",
     "text": [
      "[(':)', 3691), (':-)', 701), (':d', 658), ('thanks', 388), ('follow', 357), ('love', 333), ('...', 290), ('good', 283), ('get', 263), ('thank', 253)]\n"
     ]
    }
   ],
   "source": [
    "freq_dist_pos = FreqDist(all_pos_words)\n",
    "print(freq_dist_pos.most_common(10))"
   ]
  },
  {
   "cell_type": "markdown",
   "id": "ac0d6f2d-670f-4e39-8e5b-c04de0366ae4",
   "metadata": {},
   "source": [
    "## Step 6 — Preparing Data for the Model"
   ]
  },
  {
   "cell_type": "code",
   "execution_count": 23,
   "id": "38161740-fa66-4c33-b93b-6876e20d51e5",
   "metadata": {},
   "outputs": [],
   "source": [
    "def get_tweets_for_model(cleaned_tokens_list):\n",
    "    for tweet_tokens in cleaned_tokens_list:\n",
    "        yield dict([token, True] for token in tweet_tokens)\n",
    "\n",
    "positive_tokens_for_model = get_tweets_for_model(positive_cleaned_tokens_list)\n",
    "negative_tokens_for_model = get_tweets_for_model(negative_cleaned_tokens_list)"
   ]
  },
  {
   "cell_type": "markdown",
   "id": "735496c1-92bf-4ed7-9c1a-d4161ccf0721",
   "metadata": {},
   "source": [
    "Splitting the dataset for training and testing the model"
   ]
  },
  {
   "cell_type": "code",
   "execution_count": 24,
   "id": "874b26a1-610a-4ed9-85db-bf51db0bcae7",
   "metadata": {},
   "outputs": [],
   "source": [
    "import random\n",
    "\n",
    "positive_dataset = [(tweet_dict, \"positive\")\n",
    "                   for tweet_dict in positive_tokens_for_model]\n",
    "negative_dataset = [(tweet_dict, \"negative\")\n",
    "                   for tweet_dict in negative_tokens_for_model]\n",
    "dataset = positive_dataset + negative_dataset\n",
    "\n",
    "random.shuffle(dataset)\n",
    "\n",
    "#train test split in ratio train 70 :30 test\n",
    "train_data = dataset[:7000]\n",
    "test_data = dataset[7000:]"
   ]
  },
  {
   "cell_type": "markdown",
   "id": "1594008d-71ff-48da-a129-df3259605839",
   "metadata": {},
   "source": [
    "## Step 7 : Building and Testing Model"
   ]
  },
  {
   "cell_type": "markdown",
   "id": "1cc8b5e8-bf66-4c53-94c4-8df83839d8d4",
   "metadata": {},
   "source": [
    "### Training"
   ]
  },
  {
   "cell_type": "code",
   "execution_count": 27,
   "id": "2e909047-74e8-48a1-89b5-5ce2000e5c14",
   "metadata": {},
   "outputs": [],
   "source": [
    "#using NaiveBayesClassifier to train() and computing the accuracy()\n",
    "from nltk import classify\n",
    "from nltk import NaiveBayesClassifier"
   ]
  },
  {
   "cell_type": "code",
   "execution_count": 28,
   "id": "4e8a2582-befa-4941-b812-1c23bdc5b1b1",
   "metadata": {},
   "outputs": [],
   "source": [
    "model_nb = NaiveBayesClassifier.train(train_data)"
   ]
  },
  {
   "cell_type": "code",
   "execution_count": 33,
   "id": "62e81db6-a626-4a82-90d9-3735009f23a6",
   "metadata": {},
   "outputs": [
    {
     "name": "stdout",
     "output_type": "stream",
     "text": [
      "Accuracy is  0.994\n"
     ]
    }
   ],
   "source": [
    "print(\"Accuracy is \",classify.accuracy(model_nb , test_data))"
   ]
  },
  {
   "cell_type": "code",
   "execution_count": 34,
   "id": "00af0a88-cadc-4d1a-8ae9-71a86ecf893f",
   "metadata": {},
   "outputs": [
    {
     "name": "stdout",
     "output_type": "stream",
     "text": [
      "Most Informative Features\n",
      "                      :( = True           negati : positi =   2059.5 : 1.0\n",
      "                      :) = True           positi : negati =   1653.6 : 1.0\n",
      "                  arrive = True           positi : negati =     35.6 : 1.0\n",
      "                     sad = True           negati : positi =     22.5 : 1.0\n",
      "                     bam = True           positi : negati =     19.6 : 1.0\n",
      "                     x15 = True           negati : positi =     19.1 : 1.0\n",
      "                 welcome = True           positi : negati =     14.1 : 1.0\n",
      "              appreciate = True           positi : negati =     13.6 : 1.0\n",
      "                   great = True           positi : negati =     13.4 : 1.0\n",
      "                followed = True           negati : positi =     13.0 : 1.0\n"
     ]
    }
   ],
   "source": [
    "model_nb.show_most_informative_features(n=10)"
   ]
  },
  {
   "cell_type": "markdown",
   "id": "30c8c5c4-26b3-45f4-8b7e-8564ddfb914b",
   "metadata": {},
   "source": [
    "### Test"
   ]
  },
  {
   "cell_type": "markdown",
   "id": "31ce1c35-64f6-4462-bba8-4c67dd584145",
   "metadata": {},
   "source": [
    "<div class=\"alert alert-info\">\n",
    "to test on custom tweeet create a custom tweet with a sentiment\n",
    "    </div>"
   ]
  },
  {
   "cell_type": "code",
   "execution_count": 35,
   "id": "a83c982a-a1b0-4813-9e81-a93a90a2822e",
   "metadata": {},
   "outputs": [],
   "source": [
    "\n",
    "from nltk import word_tokenize"
   ]
  },
  {
   "cell_type": "code",
   "execution_count": 42,
   "id": "7d7d5c36-489b-4383-87a2-bd793de53c6f",
   "metadata": {},
   "outputs": [],
   "source": [
    "custom_tweet = \"I really happy today, It's not raining .\""
   ]
  },
  {
   "cell_type": "code",
   "execution_count": 43,
   "id": "fa45e61f-172b-4dd3-8c71-88da2c5177f6",
   "metadata": {},
   "outputs": [],
   "source": [
    "custom_token = remove_noise(word_tokenize(custom_tweet))"
   ]
  },
  {
   "cell_type": "code",
   "execution_count": 44,
   "id": "0053d95b-13ec-425e-85d4-064adb6e0811",
   "metadata": {},
   "outputs": [
    {
     "data": {
      "text/plain": [
       "'positive'"
      ]
     },
     "execution_count": 44,
     "metadata": {},
     "output_type": "execute_result"
    }
   ],
   "source": [
    "model_nb.classify(dict([token, True] for token in custom_token))"
   ]
  },
  {
   "cell_type": "code",
   "execution_count": 45,
   "id": "28a29194-7c8f-4816-b91b-31cb91d9d0b2",
   "metadata": {},
   "outputs": [],
   "source": [
    "custom_tweet_2 = \"Thank you so much for wishing me happy birthday, I really appreciate you all\""
   ]
  },
  {
   "cell_type": "code",
   "execution_count": null,
   "id": "4ab8cfb8-fe48-4051-930c-8cb5ad89c035",
   "metadata": {},
   "outputs": [],
   "source": [
    "custom_token = remove_noise(word_tokenize(custom_tweet_2))"
   ]
  },
  {
   "cell_type": "code",
   "execution_count": 46,
   "id": "24beaafd-9a2e-46b5-8cfc-e44ea6c21b1e",
   "metadata": {},
   "outputs": [
    {
     "data": {
      "text/plain": [
       "'positive'"
      ]
     },
     "execution_count": 46,
     "metadata": {},
     "output_type": "execute_result"
    }
   ],
   "source": [
    "model_nb.classify(dict([token, True] for token in custom_token))"
   ]
  },
  {
   "cell_type": "code",
   "execution_count": null,
   "id": "4e981ab2-a24d-4f5f-9ed5-1758efb8aef2",
   "metadata": {},
   "outputs": [],
   "source": []
  }
 ],
 "metadata": {
  "kernelspec": {
   "display_name": "Python (nlp)",
   "language": "python",
   "name": "nlp"
  },
  "language_info": {
   "codemirror_mode": {
    "name": "ipython",
    "version": 3
   },
   "file_extension": ".py",
   "mimetype": "text/x-python",
   "name": "python",
   "nbconvert_exporter": "python",
   "pygments_lexer": "ipython3",
   "version": "3.11.0"
  },
  "toc-autonumbering": true
 },
 "nbformat": 4,
 "nbformat_minor": 5
}
