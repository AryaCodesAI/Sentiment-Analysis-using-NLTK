{
 "cells": [
  {
   "cell_type": "markdown",
   "id": "5d6e720f-5e70-473e-bc48-190d57fa7036",
   "metadata": {},
   "source": [
    "# Doubts"
   ]
  },
  {
   "cell_type": "markdown",
   "id": "7c7d0cca-0545-41e4-8c5d-606419806e0d",
   "metadata": {},
   "source": [
    "<div class=\"alert alert-info\">\n",
    "to test on custom tweeet create a custom tweet with a sentiment\n",
    "    </div>"
   ]
  },
  {
   "cell_type": "markdown",
   "id": "7e816799-a821-4b36-a206-e4c36f9f117c",
   "metadata": {},
   "source": [
    "<div class=\"alert alert-success\">\n",
    "to test on custom tweeet create a custom tweet with a sentiment\n",
    "    </div>"
   ]
  },
  {
   "cell_type": "markdown",
   "id": "e9df89ba-c1b5-4402-b1bb-8fa8ca218b8b",
   "metadata": {},
   "source": [
    "<div class=\"alert alert-warning\">\n",
    "to test on custom tweeet create a custom tweet with a sentiment\n",
    "    </div>"
   ]
  },
  {
   "cell_type": "markdown",
   "id": "b8deb6f4-1917-42d1-b476-9a814387239b",
   "metadata": {},
   "source": [
    "<div class=\"alert alert-danger\">\n",
    "to test on custom tweeet create a custom tweet with a sentiment\n",
    "    </div>"
   ]
  },
  {
   "cell_type": "code",
   "execution_count": null,
   "id": "39f903db-0236-47f4-8eb8-cd5fb491f6b5",
   "metadata": {},
   "outputs": [],
   "source": []
  }
 ],
 "metadata": {
  "kernelspec": {
   "display_name": "Python 3 (ipykernel)",
   "language": "python",
   "name": "python3"
  },
  "language_info": {
   "codemirror_mode": {
    "name": "ipython",
    "version": 3
   },
   "file_extension": ".py",
   "mimetype": "text/x-python",
   "name": "python",
   "nbconvert_exporter": "python",
   "pygments_lexer": "ipython3",
   "version": "3.10.6"
  }
 },
 "nbformat": 4,
 "nbformat_minor": 5
}
