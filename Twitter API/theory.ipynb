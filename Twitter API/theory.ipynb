{
 "cells": [
  {
   "cell_type": "markdown",
   "id": "58bb7d8b-e391-4245-8233-2b26ed5e56bd",
   "metadata": {},
   "source": [
    "# Twitter API"
   ]
  },
  {
   "cell_type": "code",
   "execution_count": 4,
   "id": "28baa163-4255-46a3-a554-529bc07adea6",
   "metadata": {},
   "outputs": [],
   "source": [
    "import tweepy\n",
    "\n",
    "# Your app's API/consumer key and secret can be found under the Consumer Keys\n",
    "# section of the Keys and Tokens tab of your app, under the\n",
    "# Twitter Developer Portal Projects & Apps page at\n",
    "# https://developer.twitter.com/en/portal/projects-and-apps\n",
    "consumer_key = \"trgHBd1YMJktQw0WodToTC7SH\"\n",
    "consumer_secret = \"9SF1FI16NFzgDFHtuh48wVEBfe5tLuB0J8Tb0Rsl1z8aj6knHj\"\n",
    "\n",
    "# Your account's (the app owner's account's) access token and secret for your\n",
    "# app can be found under the Authentication Tokens section of the\n",
    "# Keys and Tokens tab of your app, under the\n",
    "# Twitter Developer Portal Projects & Apps page at\n",
    "# https://developer.twitter.com/en/portal/projects-and-apps\n",
    "access_token = \"\"\n",
    "access_token_secret = \"\""
   ]
  },
  {
   "cell_type": "code",
   "execution_count": 20,
   "id": "580abfc2-f318-485d-aec6-95c455eac8a1",
   "metadata": {},
   "outputs": [],
   "source": [
    "consumer_key= ''\n",
    "consumer_secret= ''\n",
    "access_token= ''\n",
    "access_token_secret= ''"
   ]
  },
  {
   "cell_type": "code",
   "execution_count": 21,
   "id": "edf76eaa-4101-4eae-804f-6fe29cb41774",
   "metadata": {},
   "outputs": [
    {
     "name": "stdout",
     "output_type": "stream",
     "text": [
      "jsulopzs\n"
     ]
    }
   ],
   "source": [
    "auth = tweepy.OAuth1UserHandler(\n",
    "    consumer_key, consumer_secret, access_token, access_token_secret\n",
    ")\n",
    "\n",
    "api = tweepy.API(auth)\n",
    "\n",
    "# If the authentication was successful, this should print the\n",
    "# screen name / username of the account\n",
    "print(api.verify_credentials().screen_name)"
   ]
  },
  {
   "cell_type": "code",
   "execution_count": 22,
   "id": "42aafc3d-fb21-48b6-85d1-e14631bf1f2e",
   "metadata": {},
   "outputs": [],
   "source": [
    "a = api.user_timeline()"
   ]
  },
  {
   "cell_type": "code",
   "execution_count": 24,
   "id": "985bde6c-eb7a-49ad-9e14-52016402e58c",
   "metadata": {},
   "outputs": [
    {
     "data": {
      "text/plain": [
       "Status(_api=<tweepy.api.API object at 0x117766610>, _json={'created_at': 'Thu Nov 17 16:02:51 +0000 2022', 'id': 1593273470229495808, 'id_str': '1593273470229495808', 'text': 'I am in a training lesson with @arya_akhare and we are learning how to use the Twitter API.', 'truncated': False, 'entities': {'hashtags': [], 'symbols': [], 'user_mentions': [{'screen_name': 'arya_akhare', 'name': 'Arya AI Dojo👩\\u200d💻 🤖', 'id': 1439585637376561154, 'id_str': '1439585637376561154', 'indices': [31, 43]}], 'urls': []}, 'source': '<a href=\"https://blog.resolvingpython.com/\" rel=\"nofollow\">idknen</a>', 'in_reply_to_status_id': None, 'in_reply_to_status_id_str': None, 'in_reply_to_user_id': None, 'in_reply_to_user_id_str': None, 'in_reply_to_screen_name': None, 'user': {'id': 1270439165658828805, 'id_str': '1270439165658828805', 'name': 'Jesús López', 'screen_name': 'jsulopzs', 'location': 'Efficient Python Learner 👉', 'description': 'Become an efficient Python self-learner', 'url': 'https://t.co/ObI8TZUSxM', 'entities': {'url': {'urls': [{'url': 'https://t.co/ObI8TZUSxM', 'expanded_url': 'https://maven.com/resolving-python/resolving-python-framework-data-science', 'display_url': 'maven.com/resolving-pyth…', 'indices': [0, 23]}]}, 'description': {'urls': []}}, 'protected': False, 'followers_count': 1418, 'friends_count': 0, 'listed_count': 18, 'created_at': 'Tue Jun 09 19:34:58 +0000 2020', 'favourites_count': 1745, 'utc_offset': None, 'time_zone': None, 'geo_enabled': True, 'verified': False, 'statuses_count': 2638, 'lang': None, 'contributors_enabled': False, 'is_translator': False, 'is_translation_enabled': False, 'profile_background_color': 'F5F8FA', 'profile_background_image_url': None, 'profile_background_image_url_https': None, 'profile_background_tile': False, 'profile_image_url': 'http://pbs.twimg.com/profile_images/1535285747565174785/XWCnCGp-_normal.jpg', 'profile_image_url_https': 'https://pbs.twimg.com/profile_images/1535285747565174785/XWCnCGp-_normal.jpg', 'profile_banner_url': 'https://pbs.twimg.com/profile_banners/1270439165658828805/1659225415', 'profile_link_color': '1DA1F2', 'profile_sidebar_border_color': 'C0DEED', 'profile_sidebar_fill_color': 'DDEEF6', 'profile_text_color': '333333', 'profile_use_background_image': True, 'has_extended_profile': True, 'default_profile': True, 'default_profile_image': False, 'following': False, 'follow_request_sent': False, 'notifications': False, 'translator_type': 'none', 'withheld_in_countries': []}, 'geo': None, 'coordinates': None, 'place': None, 'contributors': None, 'is_quote_status': False, 'retweet_count': 0, 'favorite_count': 0, 'favorited': False, 'retweeted': False, 'lang': 'en'}, created_at=datetime.datetime(2022, 11, 17, 16, 2, 51, tzinfo=datetime.timezone.utc), id=1593273470229495808, id_str='1593273470229495808', text='I am in a training lesson with @arya_akhare and we are learning how to use the Twitter API.', truncated=False, entities={'hashtags': [], 'symbols': [], 'user_mentions': [{'screen_name': 'arya_akhare', 'name': 'Arya AI Dojo👩\\u200d💻 🤖', 'id': 1439585637376561154, 'id_str': '1439585637376561154', 'indices': [31, 43]}], 'urls': []}, source='idknen', source_url='https://blog.resolvingpython.com/', in_reply_to_status_id=None, in_reply_to_status_id_str=None, in_reply_to_user_id=None, in_reply_to_user_id_str=None, in_reply_to_screen_name=None, author=User(_api=<tweepy.api.API object at 0x117766610>, _json={'id': 1270439165658828805, 'id_str': '1270439165658828805', 'name': 'Jesús López', 'screen_name': 'jsulopzs', 'location': 'Efficient Python Learner 👉', 'description': 'Become an efficient Python self-learner', 'url': 'https://t.co/ObI8TZUSxM', 'entities': {'url': {'urls': [{'url': 'https://t.co/ObI8TZUSxM', 'expanded_url': 'https://maven.com/resolving-python/resolving-python-framework-data-science', 'display_url': 'maven.com/resolving-pyth…', 'indices': [0, 23]}]}, 'description': {'urls': []}}, 'protected': False, 'followers_count': 1418, 'friends_count': 0, 'listed_count': 18, 'created_at': 'Tue Jun 09 19:34:58 +0000 2020', 'favourites_count': 1745, 'utc_offset': None, 'time_zone': None, 'geo_enabled': True, 'verified': False, 'statuses_count': 2638, 'lang': None, 'contributors_enabled': False, 'is_translator': False, 'is_translation_enabled': False, 'profile_background_color': 'F5F8FA', 'profile_background_image_url': None, 'profile_background_image_url_https': None, 'profile_background_tile': False, 'profile_image_url': 'http://pbs.twimg.com/profile_images/1535285747565174785/XWCnCGp-_normal.jpg', 'profile_image_url_https': 'https://pbs.twimg.com/profile_images/1535285747565174785/XWCnCGp-_normal.jpg', 'profile_banner_url': 'https://pbs.twimg.com/profile_banners/1270439165658828805/1659225415', 'profile_link_color': '1DA1F2', 'profile_sidebar_border_color': 'C0DEED', 'profile_sidebar_fill_color': 'DDEEF6', 'profile_text_color': '333333', 'profile_use_background_image': True, 'has_extended_profile': True, 'default_profile': True, 'default_profile_image': False, 'following': False, 'follow_request_sent': False, 'notifications': False, 'translator_type': 'none', 'withheld_in_countries': []}, id=1270439165658828805, id_str='1270439165658828805', name='Jesús López', screen_name='jsulopzs', location='Efficient Python Learner 👉', description='Become an efficient Python self-learner', url='https://t.co/ObI8TZUSxM', entities={'url': {'urls': [{'url': 'https://t.co/ObI8TZUSxM', 'expanded_url': 'https://maven.com/resolving-python/resolving-python-framework-data-science', 'display_url': 'maven.com/resolving-pyth…', 'indices': [0, 23]}]}, 'description': {'urls': []}}, protected=False, followers_count=1418, friends_count=0, listed_count=18, created_at=datetime.datetime(2020, 6, 9, 19, 34, 58, tzinfo=datetime.timezone.utc), favourites_count=1745, utc_offset=None, time_zone=None, geo_enabled=True, verified=False, statuses_count=2638, lang=None, contributors_enabled=False, is_translator=False, is_translation_enabled=False, profile_background_color='F5F8FA', profile_background_image_url=None, profile_background_image_url_https=None, profile_background_tile=False, profile_image_url='http://pbs.twimg.com/profile_images/1535285747565174785/XWCnCGp-_normal.jpg', profile_image_url_https='https://pbs.twimg.com/profile_images/1535285747565174785/XWCnCGp-_normal.jpg', profile_banner_url='https://pbs.twimg.com/profile_banners/1270439165658828805/1659225415', profile_link_color='1DA1F2', profile_sidebar_border_color='C0DEED', profile_sidebar_fill_color='DDEEF6', profile_text_color='333333', profile_use_background_image=True, has_extended_profile=True, default_profile=True, default_profile_image=False, following=False, follow_request_sent=False, notifications=False, translator_type='none', withheld_in_countries=[]), user=User(_api=<tweepy.api.API object at 0x117766610>, _json={'id': 1270439165658828805, 'id_str': '1270439165658828805', 'name': 'Jesús López', 'screen_name': 'jsulopzs', 'location': 'Efficient Python Learner 👉', 'description': 'Become an efficient Python self-learner', 'url': 'https://t.co/ObI8TZUSxM', 'entities': {'url': {'urls': [{'url': 'https://t.co/ObI8TZUSxM', 'expanded_url': 'https://maven.com/resolving-python/resolving-python-framework-data-science', 'display_url': 'maven.com/resolving-pyth…', 'indices': [0, 23]}]}, 'description': {'urls': []}}, 'protected': False, 'followers_count': 1418, 'friends_count': 0, 'listed_count': 18, 'created_at': 'Tue Jun 09 19:34:58 +0000 2020', 'favourites_count': 1745, 'utc_offset': None, 'time_zone': None, 'geo_enabled': True, 'verified': False, 'statuses_count': 2638, 'lang': None, 'contributors_enabled': False, 'is_translator': False, 'is_translation_enabled': False, 'profile_background_color': 'F5F8FA', 'profile_background_image_url': None, 'profile_background_image_url_https': None, 'profile_background_tile': False, 'profile_image_url': 'http://pbs.twimg.com/profile_images/1535285747565174785/XWCnCGp-_normal.jpg', 'profile_image_url_https': 'https://pbs.twimg.com/profile_images/1535285747565174785/XWCnCGp-_normal.jpg', 'profile_banner_url': 'https://pbs.twimg.com/profile_banners/1270439165658828805/1659225415', 'profile_link_color': '1DA1F2', 'profile_sidebar_border_color': 'C0DEED', 'profile_sidebar_fill_color': 'DDEEF6', 'profile_text_color': '333333', 'profile_use_background_image': True, 'has_extended_profile': True, 'default_profile': True, 'default_profile_image': False, 'following': False, 'follow_request_sent': False, 'notifications': False, 'translator_type': 'none', 'withheld_in_countries': []}, id=1270439165658828805, id_str='1270439165658828805', name='Jesús López', screen_name='jsulopzs', location='Efficient Python Learner 👉', description='Become an efficient Python self-learner', url='https://t.co/ObI8TZUSxM', entities={'url': {'urls': [{'url': 'https://t.co/ObI8TZUSxM', 'expanded_url': 'https://maven.com/resolving-python/resolving-python-framework-data-science', 'display_url': 'maven.com/resolving-pyth…', 'indices': [0, 23]}]}, 'description': {'urls': []}}, protected=False, followers_count=1418, friends_count=0, listed_count=18, created_at=datetime.datetime(2020, 6, 9, 19, 34, 58, tzinfo=datetime.timezone.utc), favourites_count=1745, utc_offset=None, time_zone=None, geo_enabled=True, verified=False, statuses_count=2638, lang=None, contributors_enabled=False, is_translator=False, is_translation_enabled=False, profile_background_color='F5F8FA', profile_background_image_url=None, profile_background_image_url_https=None, profile_background_tile=False, profile_image_url='http://pbs.twimg.com/profile_images/1535285747565174785/XWCnCGp-_normal.jpg', profile_image_url_https='https://pbs.twimg.com/profile_images/1535285747565174785/XWCnCGp-_normal.jpg', profile_banner_url='https://pbs.twimg.com/profile_banners/1270439165658828805/1659225415', profile_link_color='1DA1F2', profile_sidebar_border_color='C0DEED', profile_sidebar_fill_color='DDEEF6', profile_text_color='333333', profile_use_background_image=True, has_extended_profile=True, default_profile=True, default_profile_image=False, following=False, follow_request_sent=False, notifications=False, translator_type='none', withheld_in_countries=[]), geo=None, coordinates=None, place=None, contributors=None, is_quote_status=False, retweet_count=0, favorite_count=0, favorited=False, retweeted=False, lang='en')"
      ]
     },
     "execution_count": 24,
     "metadata": {},
     "output_type": "execute_result"
    }
   ],
   "source": [
    "api.update_status('I am in a training lesson with @arya_akhare and we are learning how to use the Twitter API.')"
   ]
  },
  {
   "cell_type": "code",
   "execution_count": null,
   "id": "942ad0bf-126a-4897-b8b3-e18ce5008528",
   "metadata": {},
   "outputs": [],
   "source": []
  }
 ],
 "metadata": {
  "kernelspec": {
   "display_name": "Python (nlp)",
   "language": "python",
   "name": "nlp"
  },
  "language_info": {
   "codemirror_mode": {
    "name": "ipython",
    "version": 3
   },
   "file_extension": ".py",
   "mimetype": "text/x-python",
   "name": "python",
   "nbconvert_exporter": "python",
   "pygments_lexer": "ipython3",
   "version": "3.11.0"
  }
 },
 "nbformat": 4,
 "nbformat_minor": 5
}
